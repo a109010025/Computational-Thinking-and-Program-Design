{
  "nbformat": 4,
  "nbformat_minor": 0,
  "metadata": {
    "colab": {
      "name": "吳宣翰-Week9-課後練習.ipynb",
      "provenance": [],
      "authorship_tag": "ABX9TyMMx9hnD2uE37hBW9EVAwNy",
      "include_colab_link": true
    },
    "kernelspec": {
      "name": "python3",
      "display_name": "Python 3"
    },
    "language_info": {
      "name": "python"
    }
  },
  "cells": [
    {
      "cell_type": "markdown",
      "metadata": {
        "id": "view-in-github",
        "colab_type": "text"
      },
      "source": [
        "<a href=\"https://colab.research.google.com/github/a109010025/Computational-Thinking-and-Program-Design/blob/main/%E5%90%B3%E5%AE%A3%E7%BF%B0_Week9_%E8%AA%B2%E5%BE%8C%E7%B7%B4%E7%BF%92.ipynb\" target=\"_parent\"><img src=\"https://colab.research.google.com/assets/colab-badge.svg\" alt=\"Open In Colab\"/></a>"
      ]
    },
    {
      "cell_type": "code",
      "metadata": {
        "colab": {
          "base_uri": "https://localhost:8080/"
        },
        "id": "EAo7duDFu-2H",
        "outputId": "e07653b6-a318-413e-9530-a6ecddf232d9"
      },
      "source": [
        "Python_founder_name=\"Guido van Rossum\"\n",
        "born_year=\"1956\"\n",
        "born_in=\"Netherland\"\n",
        "print(Python_founder_name)\n",
        "print(born_year)\n",
        "print(born_in)\n"
      ],
      "execution_count": 2,
      "outputs": [
        {
          "output_type": "stream",
          "text": [
            "Guido van Rossum\n",
            "1956\n",
            "Netherland\n"
          ],
          "name": "stdout"
        }
      ]
    },
    {
      "cell_type": "code",
      "metadata": {
        "colab": {
          "base_uri": "https://localhost:8080/"
        },
        "id": "t9PzFKWAwOvN",
        "outputId": "15fccca2-42f9-467e-89a0-e5e208fcc6d9"
      },
      "source": [
        "sum1=6*60+32\n",
        "sum2=sum1+7*60+21\n",
        "sum3=sum2+5*60+51\n",
        "sum4=sum3+7*60+3\n",
        "sum5=sum4+5*60+48\n",
        "sum5=(int(sum5/60),sum5%60)\n",
        "print(sum5)\n"
      ],
      "execution_count": 3,
      "outputs": [
        {
          "output_type": "stream",
          "text": [
            "(32, 35)\n"
          ],
          "name": "stdout"
        }
      ]
    }
  ]
}