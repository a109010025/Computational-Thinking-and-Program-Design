{
  "nbformat": 4,
  "nbformat_minor": 0,
  "metadata": {
    "colab": {
      "name": "吳宣翰-week8-隨堂練習.ipynb",
      "provenance": [],
      "authorship_tag": "ABX9TyMV+9Vb/cs1DfPprWOv5yQ6",
      "include_colab_link": true
    },
    "kernelspec": {
      "name": "python3",
      "display_name": "Python 3"
    },
    "language_info": {
      "name": "python"
    }
  },
  "cells": [
    {
      "cell_type": "markdown",
      "metadata": {
        "id": "view-in-github",
        "colab_type": "text"
      },
      "source": [
        "<a href=\"https://colab.research.google.com/github/a109010025/Computational-Thinking-and-Program-Design/blob/main/%E5%90%B3%E5%AE%A3%E7%BF%B0_week8_%E9%9A%A8%E5%A0%82%E7%B7%B4%E7%BF%92.ipynb\" target=\"_parent\"><img src=\"https://colab.research.google.com/assets/colab-badge.svg\" alt=\"Open In Colab\"/></a>"
      ]
    },
    {
      "cell_type": "code",
      "metadata": {
        "colab": {
          "base_uri": "https://localhost:8080/"
        },
        "id": "X1lU0P-jgjGz",
        "outputId": "043755e6-351f-4389-f525-7bcba41eaab8"
      },
      "source": [
        "r1 = eval(input(\"輸入外圓的直徑: \"))\n",
        "r2 = eval(input(\"輸入外圓的直徑: \"))\n",
        "s1 = 3.14 * r1/2 * r1/2\n",
        "s2 = 3.14 * r2/2 * r2/2\n",
        "s3 = s1 - s2\n",
        "print(\"外圓面積為\",s1)\n",
        "print(\"外圓面積為\",s2)\n",
        "print(\"外圓面積為\",s3)\n"
      ],
      "execution_count": 1,
      "outputs": [
        {
          "output_type": "stream",
          "text": [
            "輸入外圓的直徑: 8\n",
            "輸入外圓的直徑: 6\n",
            "外圓面積為 50.24\n",
            "外圓面積為 28.259999999999998\n",
            "外圓面積為 21.980000000000004\n"
          ],
          "name": "stdout"
        }
      ]
    },
    {
      "cell_type": "code",
      "metadata": {
        "colab": {
          "base_uri": "https://localhost:8080/"
        },
        "id": "aiqirk0BiXFp",
        "outputId": "5b9d7398-8bce-48b8-b769-7f839295890e"
      },
      "source": [
        "f = int(input('請輸入幾尺?'))\n",
        "i = int(input('請輸入幾吋?'))\n",
        "ans = (f*12+i)*2.54\n",
        "print('轉換成',ans,'公分')"
      ],
      "execution_count": 2,
      "outputs": [
        {
          "output_type": "stream",
          "text": [
            "請輸入幾尺?5\n",
            "請輸入幾吋?8\n",
            "轉換成 172.72 公分\n"
          ],
          "name": "stdout"
        }
      ]
    },
    {
      "cell_type": "code",
      "metadata": {
        "id": "ucHasWnwjQyT"
      },
      "source": [
        ""
      ],
      "execution_count": null,
      "outputs": []
    }
  ]
}