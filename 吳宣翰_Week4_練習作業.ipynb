{
  "nbformat": 4,
  "nbformat_minor": 0,
  "metadata": {
    "colab": {
      "name": "吳宣翰-Week4-練習作業.ipynb",
      "provenance": [],
      "authorship_tag": "ABX9TyOjbSmCzLtd/aaAn21uH0XG",
      "include_colab_link": true
    },
    "kernelspec": {
      "name": "python3",
      "display_name": "Python 3"
    }
  },
  "cells": [
    {
      "cell_type": "markdown",
      "metadata": {
        "id": "view-in-github",
        "colab_type": "text"
      },
      "source": [
        "<a href=\"https://colab.research.google.com/github/a109010025/Computational-Thinking-and-Program-Design/blob/main/%E5%90%B3%E5%AE%A3%E7%BF%B0_Week4_%E7%B7%B4%E7%BF%92%E4%BD%9C%E6%A5%AD.ipynb\" target=\"_parent\"><img src=\"https://colab.research.google.com/assets/colab-badge.svg\" alt=\"Open In Colab\"/></a>"
      ]
    },
    {
      "cell_type": "code",
      "metadata": {
        "id": "AoaFPqTRXEVG"
      },
      "source": [
        ""
      ],
      "execution_count": null,
      "outputs": []
    },
    {
      "cell_type": "markdown",
      "metadata": {
        "id": "uqVoKng-XI6G"
      },
      "source": [
        "#隨堂練習"
      ]
    },
    {
      "cell_type": "code",
      "metadata": {
        "id": "MaDQEtAMXaH0"
      },
      "source": [
        ""
      ],
      "execution_count": null,
      "outputs": []
    },
    {
      "cell_type": "markdown",
      "metadata": {
        "id": "iBWK9Ib_YJbS"
      },
      "source": [
        "#課後練習"
      ]
    },
    {
      "cell_type": "markdown",
      "metadata": {
        "id": "VDkty7WdbZpL"
      },
      "source": [
        "https://www.storm.mg/lifestyle/393604"
      ]
    },
    {
      "cell_type": "markdown",
      "metadata": {
        "id": "vlyjLmPjbwhU"
      },
      "source": [
        "由此篇報導可知，程式設計的重要性正在提高，甚至可以媲美第二外語，在這個時代裡，程式設計已經變成必備技能，這就是為什麼新聞系也必須學習程式設計。而且現在的年輕人們都需要身懷多技，持有越多的技能，找工作起來就越順利，畢竟這個時代要找自己本科系的工作不是容易的事"
      ]
    },
    {
      "cell_type": "code",
      "metadata": {
        "id": "UYpSIdqtYNQT"
      },
      "source": [
        ""
      ],
      "execution_count": null,
      "outputs": []
    }
  ]
}