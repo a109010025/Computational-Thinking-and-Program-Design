{
  "nbformat": 4,
  "nbformat_minor": 0,
  "metadata": {
    "colab": {
      "name": "吳宣翰-Week15-課後作業.ipynb",
      "provenance": [],
      "authorship_tag": "ABX9TyN6QVnMhNo1GuovGYS/CSh/",
      "include_colab_link": true
    },
    "kernelspec": {
      "name": "python3",
      "display_name": "Python 3"
    },
    "language_info": {
      "name": "python"
    }
  },
  "cells": [
    {
      "cell_type": "markdown",
      "metadata": {
        "id": "view-in-github",
        "colab_type": "text"
      },
      "source": [
        "<a href=\"https://colab.research.google.com/github/a109010025/Computational-Thinking-and-Program-Design/blob/main/%E5%90%B3%E5%AE%A3%E7%BF%B0_Week15_%E8%AA%B2%E5%BE%8C%E4%BD%9C%E6%A5%AD.ipynb\" target=\"_parent\"><img src=\"https://colab.research.google.com/assets/colab-badge.svg\" alt=\"Open In Colab\"/></a>"
      ]
    },
    {
      "cell_type": "code",
      "metadata": {
        "colab": {
          "base_uri": "https://localhost:8080/"
        },
        "id": "eDsolbHNNbaQ",
        "outputId": "2cb308f2-201b-418e-a162-96f3ea632e29"
      },
      "source": [
        "my_choice = int(input(\"出拳 0.剪刀 1.石頭 2.布\"))\n",
        "print(\"你出的:\", my_choice)\n",
        "import random\n",
        "com_choice = random.randint(0,2)\n",
        "print(\"電腦出的\", com_choice)\n",
        "# 後面勝前面 其他平手\n",
        "if my_choice == (com_choice + 1) % 3:\n",
        "  print(\"我贏了\")\n",
        "elif com_choice == (my_choice + 1) % 3:\n",
        "  print(\"電腦贏了\")\n",
        "\n",
        "else:\n",
        "  print(\"平手\")"
      ],
      "execution_count": 2,
      "outputs": [
        {
          "output_type": "stream",
          "text": [
            "出拳 0.剪刀 1.石頭 2.布2\n",
            "你出的: 2\n",
            "電腦出的 1\n",
            "我贏了\n"
          ],
          "name": "stdout"
        }
      ]
    }
  ]
}