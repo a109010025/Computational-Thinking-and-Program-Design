{
  "nbformat": 4,
  "nbformat_minor": 0,
  "metadata": {
    "colab": {
      "name": "吳宣翰-week8-練習作業.ipynb",
      "provenance": [],
      "collapsed_sections": [],
      "authorship_tag": "ABX9TyNQiY07tRkHbXn4GYyYXkDL",
      "include_colab_link": true
    },
    "kernelspec": {
      "name": "python3",
      "display_name": "Python 3"
    },
    "language_info": {
      "name": "python"
    }
  },
  "cells": [
    {
      "cell_type": "markdown",
      "metadata": {
        "id": "view-in-github",
        "colab_type": "text"
      },
      "source": [
        "<a href=\"https://colab.research.google.com/github/a109010025/Computational-Thinking-and-Program-Design/blob/main/%E5%90%B3%E5%AE%A3%E7%BF%B0_%E8%AA%B2%E5%BE%8C%E7%BF%92%E9%A1%8C.ipynb\" target=\"_parent\"><img src=\"https://colab.research.google.com/assets/colab-badge.svg\" alt=\"Open In Colab\"/></a>"
      ]
    },
    {
      "cell_type": "code",
      "metadata": {
        "colab": {
          "base_uri": "https://localhost:8080/"
        },
        "id": "AC6EHnDWHSZi",
        "outputId": "a506d0cf-72db-4709-a85e-8db8d37ebf92"
      },
      "source": [
        "a=input(\"請輸入a的值\")\n",
        "b=input(\"請輸入b的值\")\n",
        "c=a\n",
        "a=b\n",
        "b=c\n",
        "print(\"a=\",a)\n",
        "print(\"b=\",b)"
      ],
      "execution_count": null,
      "outputs": [
        {
          "output_type": "stream",
          "text": [
            "請輸入a的值42\n",
            "請輸入b的值55\n",
            "a= 55\n",
            "b= 42\n"
          ],
          "name": "stdout"
        }
      ]
    },
    {
      "cell_type": "code",
      "metadata": {
        "colab": {
          "base_uri": "https://localhost:8080/"
        },
        "id": "KpDjt023MwfV",
        "outputId": "bef81d42-1895-4594-95c2-01ffc268d937"
      },
      "source": [
        "a=int (input(\"請輸入1號拿到的糖果數\"))\n",
        "b=int (input(\"請輸入2號拿到的糖果數\"))\n",
        "c=int (input(\"請輸入3號拿到的糖果數\"))\n",
        "d=int (input(\"請輸入4號拿到的糖果數\"))\n",
        "e=int (input(\"請輸入5號拿到的糖果數\"))\n",
        "f=int (input(\"請輸入6號拿到的糖果數\"))\n",
        "a//=3\n",
        "b//=3\n",
        "c//=3\n",
        "d//=3\n",
        "e//=3\n",
        "f//=3\n",
        "ta=f+a+b\n",
        "tb=a+b+c\n",
        "tc=b+c+d\n",
        "td=c+d+e\n",
        "te=d+e+f\n",
        "tf=e+f+a\n",
        "print(\"1號最後會剩下\",ta,\"顆\")\n",
        "print(\"2號最後會剩下\",tb,\"顆\")\n",
        "print(\"3號最後會剩下\",tc,\"顆\")\n",
        "print(\"4號最後會剩下\",td,\"顆\")\n",
        "print(\"5號最後會剩下\",te,\"顆\")\n",
        "print(\"6號最後會剩下\",tf,\"顆\")"
      ],
      "execution_count": null,
      "outputs": [
        {
          "output_type": "stream",
          "text": [
            "請輸入1號拿到的糖果數2\n",
            "請輸入2號拿到的糖果數3\n",
            "請輸入3號拿到的糖果數4\n",
            "請輸入4號拿到的糖果數5\n",
            "請輸入5號拿到的糖果數6\n",
            "請輸入6號拿到的糖果數7\n",
            "1號最後會剩下 3 顆\n",
            "2號最後會剩下 2 顆\n",
            "3號最後會剩下 3 顆\n",
            "4號最後會剩下 4 顆\n",
            "5號最後會剩下 5 顆\n",
            "6號最後會剩下 4 顆\n"
          ],
          "name": "stdout"
        }
      ]
    }
  ]
}