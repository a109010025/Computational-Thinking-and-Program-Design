{
  "nbformat": 4,
  "nbformat_minor": 0,
  "metadata": {
    "colab": {
      "name": "吳宣翰-Week9-隨堂練習.ipynb",
      "provenance": [],
      "authorship_tag": "ABX9TyO93g1p7U7Kg7MUOP6BY5MR",
      "include_colab_link": true
    },
    "kernelspec": {
      "name": "python3",
      "display_name": "Python 3"
    },
    "language_info": {
      "name": "python"
    }
  },
  "cells": [
    {
      "cell_type": "markdown",
      "metadata": {
        "id": "view-in-github",
        "colab_type": "text"
      },
      "source": [
        "<a href=\"https://colab.research.google.com/github/a109010025/Computational-Thinking-and-Program-Design/blob/main/%E5%90%B3%E5%AE%A3%E7%BF%B0_Week9_%E9%9A%A8%E5%A0%82%E7%B7%B4%E7%BF%92.ipynb\" target=\"_parent\"><img src=\"https://colab.research.google.com/assets/colab-badge.svg\" alt=\"Open In Colab\"/></a>"
      ]
    },
    {
      "cell_type": "code",
      "metadata": {
        "id": "89iqTzRrJNSi",
        "colab": {
          "base_uri": "https://localhost:8080/"
        },
        "outputId": "012b70f2-d836-4aa7-b210-420f0cd6f181"
      },
      "source": [
        "player_name=input(\"請輸入球員姓名:\")\n",
        "player_weight=float(input(\"請輸入球員體重(kg):\"))\n",
        "player_height=float(input(\"請輸入球員身高(cm):\"))\n",
        "player_bmi=player_weight/(player_height*0.01)**2\n",
        "print(\"{}的身體質量數值為:{:.2f}\".format(player_name,player_bmi))\n",
        "print(player_name,\"的身體質量質數為\",player_bmi)\n"
      ],
      "execution_count": 2,
      "outputs": [
        {
          "output_type": "stream",
          "text": [
            "請輸入球員姓名:Shaquille O' Neal\n",
            "請輸入球員體重(kg):147\n",
            "請輸入球員身高(cm):216\n",
            "Shaquille O' Neal的身體質量數值為:31.51\n",
            "Shaquille O' Neal 的身體質量質數為 31.507201646090532\n"
          ],
          "name": "stdout"
        }
      ]
    },
    {
      "cell_type": "code",
      "metadata": {
        "colab": {
          "base_uri": "https://localhost:8080/"
        },
        "id": "LFBT_zHOsZfM",
        "outputId": "8eb0ba50-239f-456c-e792-86d33387cb19"
      },
      "source": [
        "movie_title=\"Harry Porter And Deathly Hallows part2\"\n",
        "release_year=\"2021\"\n",
        "movie_time_min=145\n",
        "movie_rating=8.1\n",
        "direactor=\"David Yates\"\n",
        "star_1=\"Daniel Radcliffe\"\n",
        "star_2=\"Emma Watson\"\n",
        "star_3=\"Rupert Grint\"\n",
        "like=1\n",
        "print(movie_title)\n",
        "print(release_year)\n",
        "print(movie_time_min)"
      ],
      "execution_count": 3,
      "outputs": [
        {
          "output_type": "stream",
          "text": [
            "Harry Porter And Deathly Hallows part2\n",
            "2021\n",
            "145\n"
          ],
          "name": "stdout"
        }
      ]
    },
    {
      "cell_type": "code",
      "metadata": {
        "colab": {
          "base_uri": "https://localhost:8080/"
        },
        "id": "tz0AOvjmuCp6",
        "outputId": "da21587a-dbd4-4583-e541-9434a936ad63"
      },
      "source": [
        "cans=int(input(\"請輸入購買飲料之罐數\"))\n",
        "total=(cans//12)*200+(cans%12)*20\n",
        "print(\"需花費\",total)"
      ],
      "execution_count": 4,
      "outputs": [
        {
          "output_type": "stream",
          "text": [
            "請輸入購買飲料之罐數124\n",
            "需花費 2080\n"
          ],
          "name": "stdout"
        }
      ]
    }
  ]
}